{
 "cells": [
  {
   "cell_type": "code",
   "execution_count": 1,
   "metadata": {},
   "outputs": [
    {
     "name": "stdout",
     "output_type": "stream",
     "text": [
      "WARNING:tensorflow:From c:\\users\\frezk\\appdata\\local\\programs\\python\\python37\\lib\\site-packages\\tensorflow_core\\python\\ops\\resource_variable_ops.py:1630: calling BaseResourceVariable.__init__ (from tensorflow.python.ops.resource_variable_ops) with constraint is deprecated and will be removed in a future version.\n",
      "Instructions for updating:\n",
      "If using Keras pass *_constraint arguments to layers.\n"
     ]
    }
   ],
   "source": [
    "import tensorflow as tf\n",
    "import numpy as np\n",
    "\n",
    "raw_data = np.random.normal(10, 1, 100)\n",
    "tf.compat.v1.disable_eager_execution()\n",
    "\n",
    "alpha = tf.constant(0.05)\n",
    "curr_value = tf.compat.v1.placeholder(tf.float32)\n",
    "prev_avg = tf.compat.v1.Variable(0.)\n",
    "update_avg = alpha * curr_value + (1 - alpha) * prev_avg\n"
   ]
  },
  {
   "cell_type": "code",
   "execution_count": 2,
   "metadata": {},
   "outputs": [],
   "source": [
    "alpha = tf.constant(0.05)\n",
    "curr_value = tf.compat.v1.placeholder(tf.float32)\n",
    "prev_avg = tf.compat.v1.Variable(0.)\n",
    "update_avg = alpha * curr_value + (1 - alpha) * prev_avg"
   ]
  },
  {
   "cell_type": "code",
   "execution_count": 3,
   "metadata": {},
   "outputs": [],
   "source": [
    "avg_hist = tf.compat.v1.summary.scalar(\"running_average\", update_avg)\n",
    "value_hist = tf.compat.v1.summary.scalar(\"incoming_values\", curr_value)\n",
    "merged = tf.compat.v1.summary.merge_all()\n",
    "writer = tf.compat.v1.summary.FileWriter(\"./logs\")\n",
    "init = tf.compat.v1.global_variables_initializer()"
   ]
  },
  {
   "cell_type": "code",
   "execution_count": 4,
   "metadata": {},
   "outputs": [
    {
     "name": "stdout",
     "output_type": "stream",
     "text": [
      "11.08607000888863 0.5543035\n",
      "10.433987656987075 1.0482876\n",
      "10.46336827759993 1.5190417\n",
      "10.304332152314341 1.9583062\n",
      "9.79225435346216 2.3500037\n",
      "8.990415247259694 2.6820242\n",
      "9.496645784701727 3.0227554\n",
      "9.392337217397946 3.3412344\n",
      "10.380974541574474 3.6932213\n",
      "10.08779723722573 4.01295\n",
      "10.359148558322337 4.33026\n",
      "10.000946344678638 4.613794\n",
      "10.164041368579753 4.8913064\n",
      "9.914048296762422 5.142443\n",
      "9.363710975041764 5.3535066\n",
      "10.722279480941165 5.6219454\n",
      "9.504822233256707 5.816089\n",
      "10.072801381615228 6.028925\n",
      "11.46857496044365 6.300907\n",
      "11.251410068285345 6.5484324\n",
      "9.898951884658134 6.715958\n",
      "11.216999121264365 6.9410105\n",
      "8.508057720343858 7.0193624\n",
      "11.086353926887536 7.2227116\n",
      "8.946216752116586 7.308887\n",
      "10.563259070018574 7.4716053\n",
      "11.832666242821617 7.689658\n",
      "8.652307241514615 7.7377906\n",
      "10.145562172759535 7.858179\n",
      "9.417122095242663 7.936126\n",
      "9.077082622714473 7.993174\n",
      "10.166038251998357 8.101817\n",
      "10.93239696170377 8.243346\n",
      "9.858108314014473 8.324084\n",
      "11.076887953472287 8.461724\n",
      "10.479503054126063 8.5626135\n",
      "10.617435963879997 8.665354\n",
      "10.578581638200024 8.761015\n",
      "10.821055045794 8.864017\n",
      "10.145144360898737 8.928073\n",
      "9.189767500038016 8.941158\n",
      "11.285934428739667 9.058397\n",
      "11.008771492514807 9.155916\n",
      "10.409345369386237 9.218588\n",
      "10.049225021777794 9.260119\n",
      "9.700270668793316 9.282127\n",
      "8.568452091321953 9.246444\n",
      "10.751687854660501 9.321706\n",
      "9.994057674786907 9.355323\n",
      "9.722561147024987 9.373685\n",
      "11.57830469148261 9.483916\n",
      "10.830744910497115 9.551258\n",
      "8.193834465877933 9.483387\n",
      "9.280303829862877 9.473232\n",
      "9.257583864230341 9.46245\n",
      "8.784717522183364 9.428563\n",
      "9.884842934980618 9.451377\n",
      "9.152289027139014 9.436423\n",
      "8.78287141766513 9.403746\n",
      "9.286120092975008 9.397864\n",
      "9.670874947965338 9.411514\n",
      "9.864299552277709 9.434153\n",
      "10.1995300434597 9.472422\n",
      "11.254041050236445 9.561502\n",
      "9.322943578658835 9.549575\n",
      "11.509310101649907 9.647561\n",
      "11.040329809759019 9.717199\n",
      "10.664996686471298 9.764589\n",
      "10.307561255442616 9.791738\n",
      "9.591257502520598 9.7817135\n",
      "10.443013749699201 9.814778\n",
      "9.142983606057552 9.781189\n",
      "11.276425144752222 9.85595\n",
      "11.0579455450897 9.91605\n",
      "10.231679597103156 9.931831\n",
      "11.398675172047273 10.005174\n",
      "10.290299753510908 10.01943\n",
      "8.290528943603965 9.932985\n",
      "9.937792609637263 9.933226\n",
      "10.063503171898889 9.939739\n",
      "11.421684805798847 10.013836\n",
      "10.420159395702754 10.034151\n",
      "10.25190803836516 10.045038\n",
      "8.588540727654081 9.972214\n",
      "10.938885973451404 10.020548\n",
      "9.173844920811488 9.978213\n",
      "11.576623775462417 10.058134\n",
      "10.345705016107264 10.072513\n",
      "9.815331081140188 10.059653\n",
      "11.306204796493486 10.121981\n",
      "10.479156878890919 10.13984\n",
      "9.636906445191237 10.114693\n",
      "11.292401622677923 10.173578\n",
      "8.968141674397625 10.113306\n",
      "10.079934191007183 10.111637\n",
      "9.101420565097524 10.061127\n",
      "9.230812779750877 10.01961\n",
      "10.342275995541472 10.035744\n",
      "8.761174630545371 9.972015\n",
      "10.300810301286207 9.988455\n"
     ]
    }
   ],
   "source": [
    "\n",
    "init = tf.compat.v1.global_variables_initializer()\n",
    "with tf.compat.v1.Session() as sess:\n",
    "    sess.run(init)\n",
    "    writer.add_graph(sess.graph)\n",
    "    for i in range(len(raw_data)):\n",
    "        summary_str, curr_avg = sess.run([merged, update_avg], feed_dict={curr_value: raw_data[i]})\n",
    "        sess.run(tf.compat.v1.assign(prev_avg, curr_avg))\n",
    "        print(raw_data[i], curr_avg)\n",
    "        writer.add_summary(summary_str, i)"
   ]
  }
 ],
 "metadata": {
  "kernelspec": {
   "display_name": "Python 3",
   "language": "python",
   "name": "python3"
  },
  "language_info": {
   "codemirror_mode": {
    "name": "ipython",
    "version": 3
   },
   "file_extension": ".py",
   "mimetype": "text/x-python",
   "name": "python",
   "nbconvert_exporter": "python",
   "pygments_lexer": "ipython3",
   "version": "3.7.5"
  }
 },
 "nbformat": 4,
 "nbformat_minor": 2
}
